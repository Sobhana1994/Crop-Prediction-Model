{
  "cells": [
    {
      "cell_type": "code",
      "execution_count": null,
      "metadata": {
        "colab": {
          "base_uri": "https://localhost:8080/"
        },
        "id": "jYXOuTSdJhyS",
        "outputId": "2ad45195-7e2a-410e-b816-7952ab1f116a"
      },
      "outputs": [
        {
          "name": "stdout",
          "output_type": "stream",
          "text": [
            "Available Crops: Barley, coconut, Red Pepper, Sorghum, orange, Bean, mothbeans, mungbean, pomegranate, Potato, Teff, Pea, Dagussa, Niger seed, jute, Fallow, Wheat, lentil, pigeonpeas, coffee, rice, chickpea, grapes, apple, blackgram, kidneybeans, muskmelon, maize, watermelon, mango, banana, papaya, Maize, cotton\n",
            "RandomForest Model Accuracy: 67.87%\n",
            "Enter your location (city, village, or specific area): Kerala\n",
            "\n",
            "Top 10 Recommended Crops for Kerala:\n",
            "1. Teff (Confidence: 27.27%) - Best suited due to temperature: 16.13°C, humidity: 14%, rainfall: 0mm, and soil properties.\n",
            "2. chickpea (Confidence: 12.67%) - Best suited due to temperature: 16.13°C, humidity: 14%, rainfall: 0mm, and soil properties.\n",
            "3. Wheat (Confidence: 10.42%) - Best suited due to temperature: 16.13°C, humidity: 14%, rainfall: 0mm, and soil properties.\n",
            "4. mothbeans (Confidence: 8.67%) - Best suited due to temperature: 16.13°C, humidity: 14%, rainfall: 0mm, and soil properties.\n",
            "5. muskmelon (Confidence: 7.67%) - Best suited due to temperature: 16.13°C, humidity: 14%, rainfall: 0mm, and soil properties.\n",
            "6. Maize (Confidence: 7.59%) - Best suited due to temperature: 16.13°C, humidity: 14%, rainfall: 0mm, and soil properties.\n",
            "7. kidneybeans (Confidence: 6.33%) - Best suited due to temperature: 16.13°C, humidity: 14%, rainfall: 0mm, and soil properties.\n",
            "8. Barley (Confidence: 5.45%) - Best suited due to temperature: 16.13°C, humidity: 14%, rainfall: 0mm, and soil properties.\n",
            "9. lentil (Confidence: 4.67%) - Best suited due to temperature: 16.13°C, humidity: 14%, rainfall: 0mm, and soil properties.\n",
            "10. Bean (Confidence: 2.03%) - Best suited due to temperature: 16.13°C, humidity: 14%, rainfall: 0mm, and soil properties.\n"
          ]
        }
      ],
      "source": [
        "from flask import Flask, request, jsonify\n",
        "import requests\n",
        "import pandas as pd\n",
        "from sklearn.ensemble import RandomForestClassifier\n",
        "from sklearn.model_selection import train_test_split\n",
        "from sklearn.preprocessing import LabelEncoder, StandardScaler\n",
        "\n",
        "app = Flask(__name__)\n",
        "\n",
        "# Load datasets\n",
        "df1 = pd.read_csv(\"Crop_recommendation.csv\")\n",
        "df2 = pd.read_csv(\"CRUSP.csv\")\n",
        "df_combined = pd.concat([df1, df2], ignore_index=True)\n",
        "\n",
        "# Preprocessing\n",
        "label_encoder = LabelEncoder()\n",
        "df_combined['label'] = label_encoder.fit_transform(df_combined['label'])\n",
        "numerical_cols = [col for col in df_combined.columns if col != 'label']\n",
        "scaler = StandardScaler()\n",
        "df_combined[numerical_cols] = scaler.fit_transform(df_combined[numerical_cols])\n",
        "\n",
        "# Train the model\n",
        "X = df_combined[numerical_cols]\n",
        "y = df_combined['label']\n",
        "X_train, X_test, y_train, y_test = train_test_split(X, y, test_size=0.2, random_state=42)\n",
        "\n",
        "model = RandomForestClassifier(n_estimators=300, max_depth=25, random_state=42)\n",
        "model.fit(X_train, y_train)\n",
        "\n",
        "# API Keys\n",
        "API_KEY = \"ed3f7c277617620ec97ffe73b5362ce7\"\n",
        "\n",
        "# Functions to fetch weather and soil data\n",
        "def get_coordinates(location):\n",
        "    url = f\"http://api.openweathermap.org/geo/1.0/direct?q={location}&limit=1&appid={API_KEY}\"\n",
        "    response = requests.get(url)\n",
        "    data = response.json()\n",
        "    if data:\n",
        "        return data[0]['lat'], data[0]['lon']\n",
        "    return None, None\n",
        "\n",
        "def get_weather_data(lat, lon):\n",
        "    url = f\"http://api.openweathermap.org/data/2.5/weather?lat={lat}&lon={lon}&appid={API_KEY}&units=metric\"\n",
        "    response = requests.get(url)\n",
        "    data = response.json()\n",
        "    if 'main' in data:\n",
        "        return data['main'].get('temp', None), data['main'].get('humidity', None), data.get('rain', {}).get('1h', 0)\n",
        "    return None, None, None\n",
        "\n",
        "@app.route('/predict', methods=['POST'])\n",
        "def predict():\n",
        "    location = request.form.get(\"location\")  # Get location from form\n",
        "    if not location:\n",
        "        return jsonify({\"error\": \"No location provided\"}), 400\n",
        "\n",
        "    lat, lon = get_coordinates(location)\n",
        "    if lat is None:\n",
        "        return jsonify({\"error\": \"Invalid location\"}), 400\n",
        "\n",
        "    temperature, humidity, rainfall = get_weather_data(lat, lon)\n",
        "\n",
        "    input_data = {\n",
        "        'temperature': temperature,\n",
        "        'humidity': humidity,\n",
        "        'rainfall': rainfall\n",
        "    }\n",
        "\n",
        "    input_df = pd.DataFrame([input_data], columns=numerical_cols)\n",
        "    input_df[numerical_cols] = scaler.transform(input_df[numerical_cols])\n",
        "\n",
        "    probabilities = model.predict_proba(input_df)[0]\n",
        "    crop_labels = label_encoder.inverse_transform(model.classes_)\n",
        "    top_indices = probabilities.argsort()[-10:][::-1]\n",
        "    \n",
        "    top_crops = [{\"crop\": crop_labels[i], \"confidence\": round(probabilities[i] * 100, 2)} for i in top_indices]\n",
        "\n",
        "    return jsonify({\"location\": location, \"recommended_crops\": top_crops})\n",
        "\n",
        "if __name__ == '__main__':\n",
        "    app.run(debug=True)\n"
      ]
    },
    {
      "cell_type": "code",
      "execution_count": null,
      "metadata": {
        "id": "uOaodsgbJyj6"
      },
      "outputs": [],
      "source": []
    }
  ],
  "metadata": {
    "colab": {
      "provenance": []
    },
    "kernelspec": {
      "display_name": "Python 3",
      "name": "python3"
    },
    "language_info": {
      "name": "python"
    }
  },
  "nbformat": 4,
  "nbformat_minor": 0
}
